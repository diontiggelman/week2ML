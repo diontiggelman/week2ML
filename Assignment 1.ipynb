{
 "cells": [
  {
   "cell_type": "markdown",
   "id": "a467eead",
   "metadata": {},
   "source": [
    "# Python for Finance\n",
    "## Assignment 1\n",
    "\n",
    "### Team:\n",
    "Dion Tiggelman (2821653)\n",
    "\n",
    "Name Name (student number)\n",
    "\n",
    "Name Name (student number)\n",
    "\n"
   ]
  },
  {
   "cell_type": "markdown",
   "id": "82ca0cfa",
   "metadata": {},
   "source": [
    "### Modules"
   ]
  },
  {
   "cell_type": "code",
   "execution_count": 823,
   "id": "fa161a0e",
   "metadata": {},
   "outputs": [],
   "source": [
    "import numpy as np\n",
    "import pandas as pd\n",
    "import matplotlib as mpl\n",
    "import matplotlib.pyplot as plt\n",
    "from statsmodels.formula.api import ols\n",
    "import statsmodels.api as sm\n",
    "import scipy\n",
    "import scipy.stats\n",
    "import seaborn as sns\n",
    "from scipy.stats.mstats import winsorize"
   ]
  },
  {
   "cell_type": "markdown",
   "id": "7fc9ee4c",
   "metadata": {},
   "source": [
    "### Exercise 1 Part A"
   ]
  },
  {
   "cell_type": "markdown",
   "id": "b4f899ab",
   "metadata": {},
   "source": [
    "* Below we read the 6 excel files we need for question 1. The sheet that we need is Consumer Credit, so that is specified in the code (in the first sheet the sheet name is Consumer credit)."
   ]
  },
  {
   "cell_type": "code",
   "execution_count": 824,
   "id": "0be1de31",
   "metadata": {},
   "outputs": [],
   "source": [
    "comp1 = pd.read_excel('firm-level-complaints-data-2020-h1.xlsx', sheet_name = 'Consumer credit')\n",
    "comp2 = pd.read_excel('firm-level-complaints-data-2020-h2.xlsx', sheet_name = 'Consumer Credit')\n",
    "comp3 = pd.read_excel('firm-level-complaints-data-2021-h1.xlsx', sheet_name = 'Consumer Credit')\n",
    "comp4 = pd.read_excel('firm-level-complaints-data-2021-h2.xlsx', sheet_name = 'Consumer Credit')\n",
    "comp5 = pd.read_excel('firm-level-complaints-data-2022-h1.xlsx', sheet_name = 'Consumer Credit')\n",
    "comp6 = pd.read_excel('firm-level-complaints-data-2022-h2.xlsx', sheet_name = 'Consumer Credit')"
   ]
  },
  {
   "cell_type": "markdown",
   "id": "f1461dd1",
   "metadata": {},
   "source": [
    "* The first step in merging and cleaning the data is to create a list where we combine all the different dataframes. This allows us to iterate through the dataframes in the list using a loop and number the dataframes using the `enumerate` function. We start the enumeration at 1 because we want the values in the 'time' column, which we add in the code line below, to go from 1 to 6. Inside the loop, a column named 'time' is added to each dataframe, and its values are based on the number provided by the enumeration. We use this approach for two reasons. Firstly, it makes it easy to add more dataframes as additional time periods arise; these can be loaded and added to the list of dataframes. Secondly, it simplifies the process of creating the 'time' column compared to when the data has already been merged.\n",
    "\n",
    "* Furthermore, inside the loop, we ensure that all column names in the various dataframes are converted to lowercase. This is useful because the usage of uppercase letters in column names varies across the dataframes. By doing this, we can easily merge columns with the same name.\n"
   ]
  },
  {
   "cell_type": "code",
   "execution_count": 825,
   "id": "376f762e",
   "metadata": {},
   "outputs": [],
   "source": [
    "dataframes = [comp1, comp2, comp3, comp4, comp5, comp6]\n",
    "\n",
    "for i, df in enumerate(dataframes, start=1):\n",
    "    df['time'] = i\n",
    "    df.columns = df.columns.str.lower()"
   ]
  },
  {
   "cell_type": "markdown",
   "id": "e764ed92",
   "metadata": {},
   "source": [
    "* In this code, we are merging all the dataframes that we've added to the list called 'dataframes' into a single dataframe using the `pd.concat` function. The default behavior of this function is to merge dataframes based on rows, which is exactly what we want, so there's no need to modify this. We also specify that the index should be reset by using `ignore_index=True`. Otherwise, the resulting dataframe would retain the index from each individual dataframe."
   ]
  },
  {
   "cell_type": "code",
   "execution_count": 826,
   "id": "1d37048b",
   "metadata": {},
   "outputs": [],
   "source": [
    "complaints = pd.concat(dataframes, ignore_index=True)"
   ]
  },
  {
   "cell_type": "markdown",
   "id": "324aa834",
   "metadata": {},
   "source": [
    "* The second line of code filters the rows in the complaints dataframe to keep only the rows where the 'reporting frequency' column is equal to 'Half Yearly' by using a boolean condition. This results in a new dataframe containing only the rows with 'Half Yearly' reporting frequency. Additionally, we reset the index here once more to ensure it is adjusted after rows have been removed from the dataframe."
   ]
  },
  {
   "cell_type": "code",
   "execution_count": 827,
   "id": "d2285cb3",
   "metadata": {},
   "outputs": [],
   "source": [
    "complaints = complaints[complaints['reporting frequency'] == 'Half Yearly'].reset_index(drop=True)"
   ]
  },
  {
   "cell_type": "markdown",
   "id": "70620263",
   "metadata": {},
   "source": [
    "* In the following step, we replace the 'NO GROUP' values in the 'firm group' and 'group' columns with NaN by using `replace` and `np.nan`. We do this to ensure that in the next step, when we combine these columns, these values will be treated as missing values."
   ]
  },
  {
   "cell_type": "code",
   "execution_count": 828,
   "id": "18cb0fe1",
   "metadata": {},
   "outputs": [],
   "source": [
    "complaints[['firm group', 'group']] = complaints[['firm group', 'group']].replace('NO GROUP', np.nan)"
   ]
  },
  {
   "cell_type": "markdown",
   "id": "b2df9a78",
   "metadata": {},
   "source": [
    "* The first line of code assigns the values from the 'group' column to the 'firm group' column in cases where the 'firm group' column has missing values. It fills missing 'firm group' values with values from the 'group' column.\n",
    "* The second line of code uses the same method as the first line, but here it fills the remaining missing 'firm group values with 'firm name' values.\n",
    "* The third line of code creates a new column 'id' in the complaints dataframe. It first converts the 'firm group' column into a categorical variable using `pd.Categorical` and then it assigns integer codes to each unique category."
   ]
  },
  {
   "cell_type": "code",
   "execution_count": 829,
   "id": "23d6cefb",
   "metadata": {},
   "outputs": [],
   "source": [
    "complaints['firm group']= complaints['firm group'].combine_first(complaints['group'])\n",
    "complaints['firm group']= complaints['firm group'].combine_first(complaints['firm name'])\n",
    "complaints['id'] = pd.Categorical(complaints['firm group']).codes"
   ]
  },
  {
   "cell_type": "markdown",
   "id": "05224fb1",
   "metadata": {},
   "source": [
    "* We discovered certain rows in the dataframe where both 'percentage upheld' and 'complaints upheld by firm' columns had missing values. Since we cannot perform analysis with these incomplete rows, they are removed using the `dropna` function. This function is applied to a subset of the dataframe containing these two columns. We specify `how='all'` to ensure that only the rows with no values in both columns are dropped. Again we reset the index after dropping rows.\n",
    "* To ensure correct weighting of the 'percentage upheld' when we group the data by 'firm group,' the first step is to fill in the 'complaints upheld by firm' column for each row. We achieve this by filling the rows with missing values using the product of 'percentage upheld' and 'complaints received.'\n",
    "* Now, we can start grouping all the data based on the 'id' column. We do this by first using the `groupby` function. We specify `as_index=False`, because we want to retain the index, and we don't want 'id' and 'time' to become the index. Then, we use the `agg` function to aggregate the three variables we want to add, while taking the 'sum' of the rows.\n",
    "* In the final part of the code below, we have the total 'complaints upheld' and 'complaints received' by a firm group, which is identified by 'id.' This allows us to accurately calculate the 'percentage upheld' by dividing 'complaints upheld by firm' by 'complaints received.'"
   ]
  },
  {
   "cell_type": "code",
   "execution_count": 830,
   "id": "a9e253d3",
   "metadata": {},
   "outputs": [],
   "source": [
    "complaints.dropna(subset=['percentage upheld', 'complaints upheld by firm'], how='all', inplace=True)\n",
    "complaints.reset_index(drop=True, inplace=True)\n",
    "\n",
    "complaints['complaints upheld by firm'] = complaints['complaints upheld by firm'].fillna(complaints['percentage upheld'] * complaints['complaints received'])\n",
    "\n",
    "complaints = complaints.groupby(['id', 'time'],as_index=False).agg({'complaints received':'sum', 'complaints closed':'sum', 'complaints upheld by firm':'sum'})\n",
    "\n",
    "complaints['percentage upheld'] = complaints1['complaints upheld by firm'] / complaints1['complaints received']"
   ]
  },
  {
   "cell_type": "markdown",
   "id": "04fd5876",
   "metadata": {},
   "source": [
    "* Below, we remove the column that is no longer needed for the rest of the exercise using the Pandas drop function. We specify axis=1 because we want the removal to be performed along the columns."
   ]
  },
  {
   "cell_type": "code",
   "execution_count": 831,
   "id": "c974b499",
   "metadata": {},
   "outputs": [],
   "source": [
    "complaints = complaints.drop(['complaints upheld by firm'] , axis=1)"
   ]
  },
  {
   "cell_type": "markdown",
   "id": "15a7ab6b",
   "metadata": {},
   "source": [
    "* Subsequently, we change the data type of the 'id' column from int16 to int64 to match the data types shown in the exercise. We then verify this by using the `dtypes` function, and it matches as expected."
   ]
  },
  {
   "cell_type": "code",
   "execution_count": 832,
   "id": "f0f5920c",
   "metadata": {},
   "outputs": [
    {
     "data": {
      "text/plain": [
       "id                       int64\n",
       "time                     int64\n",
       "complaints received      int64\n",
       "complaints closed        int64\n",
       "percentage upheld      float64\n",
       "dtype: object"
      ]
     },
     "execution_count": 832,
     "metadata": {},
     "output_type": "execute_result"
    }
   ],
   "source": [
    "complaints['id'] = complaints['id'].astype('int64')\n",
    "complaints.dtypes"
   ]
  },
  {
   "cell_type": "markdown",
   "id": "62362475",
   "metadata": {},
   "source": [
    "### Exercise 1 Part B"
   ]
  },
  {
   "cell_type": "markdown",
   "id": "593d89f4",
   "metadata": {},
   "source": [
    "* To plot this, we first need to group the complaints data based on the 'time' column and then add the 'percentage upheld' column to it. Then we can perform the aggregation operations using the created object, which in this case includes calculating the median, 25th quantile, and 75th quantile (over time).\n",
    "* After that, we proceed to create the plot using the plt package. First, we determine the figure size with figsize. Then, we plot the three lines for the median, q25, and q75, labeling each line and specifying different markers and line styles. We also provide suitable names for the x-axis and y-axis and add a title to the plot. We include a legend with labels that we assigned during the line plotting. Finally, we set `ax.grid(True)` to make the plot easier to read.\n",
    "* The plot reveals that there are some changes over time, showing a slight downward trend. Even though the values for periods 1 and 6 don't differ significantly for all three lines, the trend indicates a subtle shift in the data over time."
   ]
  },
  {
   "cell_type": "code",
   "execution_count": 833,
   "id": "fff30e24",
   "metadata": {},
   "outputs": [
    {
     "data": {
      "image/png": "[encoded data removed]",
      "text/plain": [
       "<Figure size 1000x600 with 1 Axes>"
      ]
     },
     "metadata": {},
     "output_type": "display_data"
    }
   ],
   "source": [
    "upheld_time = complaints.groupby('time')['percentage upheld']\n",
    "median = upheld_time.median()\n",
    "q25 = upheld_time.quantile(0.25)\n",
    "q75 = upheld_time.quantile(0.75)\n",
    "\n",
    "fig, ax = plt.subplots(figsize=(10, 6))\n",
    "ax.plot(median, label='Median', marker='o', linestyle='-')\n",
    "ax.plot(q25, label='25th Quantile', marker='s', linestyle='--')\n",
    "ax.plot(q75, label='75th Quantile', marker='^', linestyle='--')\n",
    "ax.set_xlabel('Time Period')\n",
    "ax.set_ylabel('Percentage Upheld')\n",
    "ax.set_title('Percentage Upheld Over Time for Each Time Period')\n",
    "ax.legend()\n",
    "ax.grid(True)"
   ]
  },
  {
   "cell_type": "markdown",
   "id": "0a481df2",
   "metadata": {},
   "source": [
    "* To calculate the mean of the 'percentage upheld' over time, grouped by 'firm group,' we once again use the `groupby` function. This time, we group based on the 'id' column and include the 'percentage upheld' column to calculate the mean of this data. By doing this, we obtain the mean of 'percentage upheld' of the various time periods for each firm group.\n",
    "* After that, we create a plot again using the `plt` package. In this case, we opt to plot a histogram, and within the `hist` function, we specify various settings. For example, we set the number of bins, in this case, 40. We also specify the edgecolor to enhance the visibility of the histogram. Here We also add labels for the y-axis, x-axis, and a title to the plot.\n",
    "* The plot in the figure does tend to resemble a normal distribution, albeit with a slight right skew. This is because the mean is approximately around 0.43, causing a bit more data to be concentrated on the left side of the center."
   ]
  },
  {
   "cell_type": "code",
   "execution_count": 834,
   "id": "8d0974e2",
   "metadata": {
    "scrolled": true
   },
   "outputs": [
    {
     "data": {
      "image/png": "[encoded data removed]",
      "text/plain": [
       "<Figure size 1000x300 with 1 Axes>"
      ]
     },
     "metadata": {},
     "output_type": "display_data"
    }
   ],
   "source": [
    "upheld_group = complaints.groupby('id').agg({'percentage upheld':'mean'})\n",
    "\n",
    "fig, ax = plt.subplots(figsize=(10, 3))\n",
    "ax.hist(upheld_group, bins=40, edgecolor='k')\n",
    "ax.set_title('Distribution of Mean Percentage Upheld by Firm Group')\n",
    "ax.set_xlabel('Mean Percentage Upheld')\n",
    "ax.set_ylabel('Frequency')\n",
    "ax.grid(True)"
   ]
  },
  {
   "cell_type": "markdown",
   "id": "e3e7d39c",
   "metadata": {},
   "source": [
    "* In this part we use the same data as in previous task, only we add the variable complaints closed by using the `agg` function. We add the sum of the complaints closed. \n",
    "* We found one period for one 'id' that had a value of 0 for 'complaints closed'. This makes it difficult to take the logarithm and run the regression. Because it is only one time period for one firm group, we decided to delete this row by filtering the dataset to rows where the complaints closed is not 0.\n",
    "* After this we can compute the log complaints closed variable by using the `np.log10` function.\n",
    "* Now, we can start the regression. First we assign the variables to Y and X, so that we can easily put this in our OLS regression. When we have done this we do the OLS regression by using the `ols` function, setting Y (log complaints upheld) and X (percentage upheld) and adding the data. Then we store the estimates of the model and print them on screen.\n",
    "* In the results we see that there is a negative relation between the percentage upheld and the log complaints closed. However if we look to the t-statistic the parameter for percentage upheld is not significant with a 95% confidence level. This means we cannot reject the 0 hypothesis that the parameter is significantly different from zero and it implies that (with a confidence level of 95%) the percentage of complaints upheld not predicts the log number of complaints that are closed."
   ]
  },
  {
   "cell_type": "code",
   "execution_count": 835,
   "id": "7413b7f6",
   "metadata": {},
   "outputs": [
    {
     "name": "stdout",
     "output_type": "stream",
     "text": [
      "                            OLS Regression Results                            \n",
      "==============================================================================\n",
      "Dep. Variable:                      Y   R-squared:                       0.011\n",
      "Model:                            OLS   Adj. R-squared:                  0.007\n",
      "Method:                 Least Squares   F-statistic:                     2.903\n",
      "Date:                Mon, 25 Sep 2023   Prob (F-statistic):             0.0896\n",
      "Time:                        17:06:21   Log-Likelihood:                -386.09\n",
      "No. Observations:                 263   AIC:                             776.2\n",
      "Df Residuals:                     261   BIC:                             783.3\n",
      "Df Model:                           1                                         \n",
      "Covariance Type:            nonrobust                                         \n",
      "==============================================================================\n",
      "                 coef    std err          t      P>|t|      [0.025      0.975]\n",
      "------------------------------------------------------------------------------\n",
      "Intercept      3.3938      0.157     21.632      0.000       3.085       3.703\n",
      "X             -0.5586      0.328     -1.704      0.090      -1.204       0.087\n",
      "==============================================================================\n",
      "Omnibus:                       24.137   Durbin-Watson:                   1.744\n",
      "Prob(Omnibus):                  0.000   Jarque-Bera (JB):               27.995\n",
      "Skew:                          -0.777   Prob(JB):                     8.34e-07\n",
      "Kurtosis:                       3.371   Cond. No.                         6.03\n",
      "==============================================================================\n",
      "\n",
      "Notes:\n",
      "[1] Standard Errors assume that the covariance matrix of the errors is correctly specified.\n"
     ]
    }
   ],
   "source": [
    "upheld_group2 = complaints.groupby('id').agg({'percentage upheld':'mean', 'complaints closed': 'sum'})\n",
    "\n",
    "upheld_group2 = upheld_group2[upheld_group2['complaints closed'] != 0]\n",
    "\n",
    "upheld_group2['log compplaints closed'] = np.log10(upheld_group2['complaints closed'])\n",
    "\n",
    "Y = upheld_group2['log compplaints closed']\n",
    "X = upheld_group2['percentage upheld']\n",
    "\n",
    "model = ols('Y ~ X', upheld_group2)\n",
    "estimates1 = model.fit()\n",
    "\n",
    "print(estimates1.summary())"
   ]
  },
  {
   "cell_type": "markdown",
   "id": "253cbd16",
   "metadata": {},
   "source": [
    "#### Additional statistical analysis\n",
    "\n",
    "* In the first step of the additional statistical analysis, we start by generating a summary statistics table using the `describe` function. Within this table we already see some interesting things and potential outliers. For instance, the maximum value of 'percentage upheld' appears to be illogical, as it should not exceed 1 since it represents a percentage. Additionally, the maximum values of 'complaints received' and 'complaints closed' are considerably higher in relation to the various quantiles. When conducting further analyses and creating plots involving these variables, we need to take those outliers in consideration and deal with them."
   ]
  },
  {
   "cell_type": "code",
   "execution_count": 836,
   "id": "60abc8bb",
   "metadata": {},
   "outputs": [
    {
     "data": {
      "text/html": [
       "<div>\n",
       "<style scoped>\n",
       "    .dataframe tbody tr th:only-of-type {\n",
       "        vertical-align: middle;\n",
       "    }\n",
       "\n",
       "    .dataframe tbody tr th {\n",
       "        vertical-align: top;\n",
       "    }\n",
       "\n",
       "    .dataframe thead th {\n",
       "        text-align: right;\n",
       "    }\n",
       "</style>\n",
       "<table border=\"1\" class=\"dataframe\">\n",
       "  <thead>\n",
       "    <tr style=\"text-align: right;\">\n",
       "      <th></th>\n",
       "      <th>id</th>\n",
       "      <th>time</th>\n",
       "      <th>complaints received</th>\n",
       "      <th>complaints closed</th>\n",
       "      <th>percentage upheld</th>\n",
       "    </tr>\n",
       "  </thead>\n",
       "  <tbody>\n",
       "    <tr>\n",
       "      <th>count</th>\n",
       "      <td>695.000000</td>\n",
       "      <td>695.000000</td>\n",
       "      <td>695.000000</td>\n",
       "      <td>695.000000</td>\n",
       "      <td>695.000000</td>\n",
       "    </tr>\n",
       "    <tr>\n",
       "      <th>mean</th>\n",
       "      <td>128.523741</td>\n",
       "      <td>3.466187</td>\n",
       "      <td>3304.542446</td>\n",
       "      <td>3264.161151</td>\n",
       "      <td>0.433280</td>\n",
       "    </tr>\n",
       "    <tr>\n",
       "      <th>std</th>\n",
       "      <td>76.174676</td>\n",
       "      <td>1.729951</td>\n",
       "      <td>6196.119598</td>\n",
       "      <td>6092.449519</td>\n",
       "      <td>0.219025</td>\n",
       "    </tr>\n",
       "    <tr>\n",
       "      <th>min</th>\n",
       "      <td>0.000000</td>\n",
       "      <td>1.000000</td>\n",
       "      <td>1.000000</td>\n",
       "      <td>0.000000</td>\n",
       "      <td>0.000000</td>\n",
       "    </tr>\n",
       "    <tr>\n",
       "      <th>25%</th>\n",
       "      <td>61.000000</td>\n",
       "      <td>2.000000</td>\n",
       "      <td>281.500000</td>\n",
       "      <td>279.500000</td>\n",
       "      <td>0.280855</td>\n",
       "    </tr>\n",
       "    <tr>\n",
       "      <th>50%</th>\n",
       "      <td>128.000000</td>\n",
       "      <td>3.000000</td>\n",
       "      <td>1059.000000</td>\n",
       "      <td>1025.000000</td>\n",
       "      <td>0.423077</td>\n",
       "    </tr>\n",
       "    <tr>\n",
       "      <th>75%</th>\n",
       "      <td>190.000000</td>\n",
       "      <td>5.000000</td>\n",
       "      <td>3140.500000</td>\n",
       "      <td>3142.000000</td>\n",
       "      <td>0.566823</td>\n",
       "    </tr>\n",
       "    <tr>\n",
       "      <th>max</th>\n",
       "      <td>265.000000</td>\n",
       "      <td>6.000000</td>\n",
       "      <td>63158.000000</td>\n",
       "      <td>63214.000000</td>\n",
       "      <td>2.000000</td>\n",
       "    </tr>\n",
       "  </tbody>\n",
       "</table>\n",
       "</div>"
      ],
      "text/plain": [
       "               id        time  complaints received  complaints closed  \\\n",
       "count  695.000000  695.000000           695.000000         695.000000   \n",
       "mean   128.523741    3.466187          3304.542446        3264.161151   \n",
       "std     76.174676    1.729951          6196.119598        6092.449519   \n",
       "min      0.000000    1.000000             1.000000           0.000000   \n",
       "25%     61.000000    2.000000           281.500000         279.500000   \n",
       "50%    128.000000    3.000000          1059.000000        1025.000000   \n",
       "75%    190.000000    5.000000          3140.500000        3142.000000   \n",
       "max    265.000000    6.000000         63158.000000       63214.000000   \n",
       "\n",
       "       percentage upheld  \n",
       "count         695.000000  \n",
       "mean            0.433280  \n",
       "std             0.219025  \n",
       "min             0.000000  \n",
       "25%             0.280855  \n",
       "50%             0.423077  \n",
       "75%             0.566823  \n",
       "max             2.000000  "
      ]
     },
     "execution_count": 836,
     "metadata": {},
     "output_type": "execute_result"
    }
   ],
   "source": [
    "complaints.describe()"
   ]
  },
  {
   "cell_type": "markdown",
   "id": "2b1c87aa",
   "metadata": {},
   "source": [
    "* When we create a box plot for the percentage upheld for each time period using the `sns` package, we once again encounter these outliers. The trend over time resembles the plot we previously generated in this assignment, but hrough this plot, the presence of outliers in the data becomes more clear."
   ]
  },
  {
   "cell_type": "code",
   "execution_count": 837,
   "id": "e895052f",
   "metadata": {},
   "outputs": [
    {
     "data": {
      "image/png": "[encoded data removed]",
      "text/plain": [
       "<Figure size 1200x600 with 1 Axes>"
      ]
     },
     "metadata": {},
     "output_type": "display_data"
    }
   ],
   "source": [
    "fig, ax = plt.subplots(figsize=(12, 6))\n",
    "sns.boxplot(data=complaints, x='time', y='percentage upheld')\n",
    "ax.set_title('Box Plot of Percentage Upheld Over Time')\n",
    "ax.set_xlabel('Time Period')\n",
    "ax.set_ylabel('Percentage Upheld')\n",
    "plt.show()"
   ]
  },
  {
   "cell_type": "markdown",
   "id": "e66c85f7",
   "metadata": {},
   "source": [
    "* To deal with these outliers, we use the `winsorize` function from the `scipy.stats.mstats package`. In this process, we need to establish thresholds for winsorization. The outliers are present only on the upper end, so we only need to determine an upper threshold. Given that there are relatively few outliers in this data, we set the upper threshold to 0.005. After that we replace the 'percentage upheld' variable with the winsorize version."
   ]
  },
  {
   "cell_type": "code",
   "execution_count": 838,
   "id": "085165fe",
   "metadata": {},
   "outputs": [],
   "source": [
    "wins_percentage_upheld = winsorize(complaints['percentage upheld'], limits=(0 , 0.005))\n",
    "\n",
    "complaints['percentage upheld'] = wins_percentage_upheld"
   ]
  },
  {
   "cell_type": "markdown",
   "id": "9b7e84b9",
   "metadata": {},
   "source": [
    "* Now we can plot the boxplots again. We see that without the outliers it looks a lot better. If we would perform another regression the outliers wouldn't negatively affect the slope anymore.\n"
   ]
  },
  {
   "cell_type": "code",
   "execution_count": 839,
   "id": "1ad49f50",
   "metadata": {},
   "outputs": [
    {
     "data": {
      "image/png": "[encoded data removed]",
      "text/plain": [
       "<Figure size 1200x600 with 1 Axes>"
      ]
     },
     "metadata": {},
     "output_type": "display_data"
    }
   ],
   "source": [
    "fig, ax = plt.subplots(figsize=(12, 6))\n",
    "sns.boxplot(data=complaints, x='time', y='percentage upheld')\n",
    "ax.set_title('Box Plot of Percentage Upheld Over Time')\n",
    "ax.set_xlabel('Time Period')\n",
    "ax.set_ylabel('Percentage Upheld')\n",
    "plt.show()"
   ]
  },
  {
   "cell_type": "markdown",
   "id": "7176115a",
   "metadata": {},
   "source": [
    "### Exercise 2"
   ]
  },
  {
   "cell_type": "code",
   "execution_count": 854,
   "id": "245d80c9",
   "metadata": {},
   "outputs": [],
   "source": [
    "crsp = pd.read_csv('xrerfphrinihp8jn.csv')"
   ]
  },
  {
   "cell_type": "markdown",
   "id": "6075953c",
   "metadata": {},
   "source": [
    "#### Filtering & cleaning the data\n",
    "\n",
    "* In order to properly use the data we need to filter out the useble data and clean up unusable data from the data set. We started by checking for non-numeric values in the return column. Accoridng to the CRSP data guide, provided in the lecture videos, unusable data in the RET column ara marked down with the values 'B', 'C', '-66.0', '-77.0' or '-99.0'. The code below counts the number of cells in the RET column with for each of the stated values. Thereafter we replace these values, if they have been found in the data set, with the NaN (not a number) value. This allows us to convert the data under the RET column to floating numbers, which is done in the next line[7] of code."
   ]
  },
  {
   "cell_type": "code",
   "execution_count": 855,
   "id": "c5186dbe",
   "metadata": {},
   "outputs": [
    {
     "name": "stdout",
     "output_type": "stream",
     "text": [
      "35 27 0 0 0\n"
     ]
    }
   ],
   "source": [
    "print(sum(crsp.RET=='B'),sum(crsp.RET=='C'),sum(crsp.RET=='-66.0'),sum(crsp.RET=='-77.0'),sum(crsp.RET =='-99.0'))"
   ]
  },
  {
   "cell_type": "code",
   "execution_count": 856,
   "id": "9ca25c36",
   "metadata": {},
   "outputs": [],
   "source": [
    "crsp['RET'].replace(['C','B'],np.NaN,inplace=True)"
   ]
  },
  {
   "cell_type": "code",
   "execution_count": 857,
   "id": "43c557cf",
   "metadata": {},
   "outputs": [
    {
     "name": "stdout",
     "output_type": "stream",
     "text": [
      "0 0\n"
     ]
    }
   ],
   "source": [
    "print(sum(crsp.RET == 'B'),sum(crsp.RET == 'C'))"
   ]
  },
  {
   "cell_type": "code",
   "execution_count": 858,
   "id": "b2907d88",
   "metadata": {},
   "outputs": [],
   "source": [
    "crsp['RET'] = pd.to_numeric(crsp['RET'],downcast='float')"
   ]
  },
  {
   "cell_type": "code",
   "execution_count": 859,
   "id": "a69516e8",
   "metadata": {},
   "outputs": [
    {
     "data": {
      "text/plain": [
       "PERMNO      int64\n",
       "date        int64\n",
       "EXCHCD    float64\n",
       "TICKER     object\n",
       "COMNAM     object\n",
       "PERMCO      int64\n",
       "CUSIP      object\n",
       "PRC       float64\n",
       "RET       float32\n",
       "vwretd    float64\n",
       "sprtrn    float64\n",
       "dtype: object"
      ]
     },
     "execution_count": 859,
     "metadata": {},
     "output_type": "execute_result"
    }
   ],
   "source": [
    "crsp.dtypes"
   ]
  },
  {
   "cell_type": "markdown",
   "id": "dc2e4284",
   "metadata": {},
   "source": [
    "#### Number of months\n",
    "\n",
    "* In order to filter out the stocks that are not present in the data set for all monthes we first count the number of total months over the whole time period. We do this by creating a variable called tot months which contains all unique dates in the data set. Here after we check the length of the variable 'totmonths' which givess us the number of uniqe dates, and thus the total amount of months. \n"
   ]
  },
  {
   "cell_type": "code",
   "execution_count": 860,
   "id": "3b39d068",
   "metadata": {},
   "outputs": [
    {
     "data": {
      "text/plain": [
       "216"
      ]
     },
     "execution_count": 860,
     "metadata": {},
     "output_type": "execute_result"
    }
   ],
   "source": [
    "totmonths= crsp.date.unique()\n",
    "nm=len(totmonths)\n",
    "nm"
   ]
  },
  {
   "cell_type": "markdown",
   "id": "2aff5d63",
   "metadata": {},
   "source": [
    "* Here we duplicate the dataset for us to keep the orriginal data, if we need it later. \n",
    "* We add a variable 'months' to the unique data with a value of 1 for all rows. \n",
    "* here after we group buy 'TICKER', and sum all numeric variables, and we save this in a new dataframe named 'a'."
   ]
  },
  {
   "cell_type": "code",
   "execution_count": 861,
   "id": "bfeb1537",
   "metadata": {},
   "outputs": [],
   "source": [
    "crsp2=crsp\n",
    "crsp2['months']=1\n",
    "a= crsp2.groupby(crsp2.TICKER).sum(numeric_only = True)"
   ]
  },
  {
   "cell_type": "markdown",
   "id": "6bfbfc32",
   "metadata": {},
   "source": [
    "* we create a new dataframe named 'cm', which only includes data with a sum of months (number of months), equal to the total number of months over the complete time frame. This creates a datafram that only includes stocks that are present in the data set for all months. "
   ]
  },
  {
   "cell_type": "code",
   "execution_count": 862,
   "id": "a84ed05b",
   "metadata": {},
   "outputs": [],
   "source": [
    "cm = a[a.months==nm]"
   ]
  },
  {
   "cell_type": "markdown",
   "id": "a16bf4a3",
   "metadata": {},
   "source": [
    "* After this we store all the 'TICKER' values in under 'comp_firms' which have been included in data frame 'cm', which gives us all companies that should be included in the data frame that we will use for our analysis. "
   ]
  },
  {
   "cell_type": "code",
   "execution_count": 863,
   "id": "dc60d436",
   "metadata": {},
   "outputs": [],
   "source": [
    "comp_firms=cm.index.values[cm.months == nm]"
   ]
  },
  {
   "cell_type": "markdown",
   "id": "55ebae67",
   "metadata": {},
   "source": [
    "* Finally, we create a new data frame that includes data from the orriginal data frame 'crsp' for the stocks included in 'comp_firms', we name this new data frame 'crsp3'. This gives us a complete data set of all firms with data for the whole time period."
   ]
  },
  {
   "cell_type": "code",
   "execution_count": 864,
   "id": "3dd183a0",
   "metadata": {},
   "outputs": [],
   "source": [
    "crsp3= crsp[crsp.TICKER.isin(comp_firms)]"
   ]
  },
  {
   "cell_type": "markdown",
   "id": "c83e7f7f",
   "metadata": {},
   "source": [
    "#### Cumulative returns\n",
    "\n",
    "* In the 'crsp3' dataframe we create a new column 'RET+1', which will be used to calculate cumulative returns. The code to do this gave us an error, which could be fixed by the code in the next line, whereafter we were able to create a new colum with the values from the 'RET' column plus 1."
   ]
  },
  {
   "cell_type": "code",
   "execution_count": 865,
   "id": "0f113a08",
   "metadata": {},
   "outputs": [],
   "source": [
    "pd.options.mode.chained_assignment = None"
   ]
  },
  {
   "cell_type": "code",
   "execution_count": 866,
   "id": "6ca62346",
   "metadata": {},
   "outputs": [],
   "source": [
    "crsp3['RET+1'] = crsp3['RET'] + 1"
   ]
  },
  {
   "cell_type": "markdown",
   "id": "17e7eef5",
   "metadata": {},
   "source": [
    "* The code below creates a new column, named 'Cumulative_Return' with cumulative returns for every month from the start month up until the last month of the dataset. We need to use the groupby command and group by 'TICKER' so the cumulative return column is linked to the specifick stocks. Furthermore we add \"['RET+1'].cumprod()\" which lets us cumulate the return+1 values for all months for each ticker. "
   ]
  },
  {
   "cell_type": "code",
   "execution_count": 867,
   "id": "84ab25f1",
   "metadata": {},
   "outputs": [],
   "source": [
    "crsp3['Cumulative_Return'] = crsp3.groupby('TICKER')['RET+1'].cumprod()"
   ]
  },
  {
   "cell_type": "markdown",
   "id": "4130686b",
   "metadata": {},
   "source": [
    "#### Date time variables\n",
    "\n",
    "* In the code below we create format the date variable to be a date-time variable instead of a integer. We had to added the part \".astype(str)\" to first make a string out of the date variable, for the code to work. The format that we chose is YYYY-MM-DD."
   ]
  },
  {
   "cell_type": "code",
   "execution_count": 868,
   "id": "3cb670a8",
   "metadata": {},
   "outputs": [],
   "source": [
    "crsp3.date = pd.to_datetime(crsp3['date'].astype(str), format='%Y%m%d')"
   ]
  },
  {
   "cell_type": "markdown",
   "id": "68af530d",
   "metadata": {},
   "source": [
    "#### Finding the top performing stocks in 2001\n",
    "\n",
    "* after creating date-time variables we could easily filter the data from 2001 and place this in a new data frame, named 'year_2001'."
   ]
  },
  {
   "cell_type": "code",
   "execution_count": 870,
   "id": "8ec63c1b",
   "metadata": {},
   "outputs": [],
   "source": [
    "year_2001 = crsp3[crsp3['date'].dt.year == 2001]"
   ]
  },
  {
   "cell_type": "markdown",
   "id": "98716f42",
   "metadata": {},
   "source": [
    "* In the code below we gather all values of 'Cumulative_Return' for the last month of 2001, this is done by adding \".last()\" to the code. We store these values under 'dec2001_cumr'."
   ]
  },
  {
   "cell_type": "code",
   "execution_count": 871,
   "id": "d6232add",
   "metadata": {},
   "outputs": [],
   "source": [
    "dec2001_cumr = year_2001.groupby('TICKER')['Cumulative_Return'].last()"
   ]
  },
  {
   "cell_type": "markdown",
   "id": "bb41d76e",
   "metadata": {},
   "source": [
    "* Now we can sort all values in 'dec2001_cumr' from high to low using (ascending=False), and filter on the 10 highest valuess by using \".index.values[:10]\". Then we store these 10 highest values as 'best10_2001' "
   ]
  },
  {
   "cell_type": "code",
   "execution_count": 872,
   "id": "426ba0cb",
   "metadata": {},
   "outputs": [],
   "source": [
    "best10_2001 = dec2001_cumr.sort_values(ascending=False).index.values[:10]"
   ]
  },
  {
   "cell_type": "markdown",
   "id": "156daec9",
   "metadata": {},
   "source": [
    "* Below the tickers of the 10 best performing stocks of 2001 can be found."
   ]
  },
  {
   "cell_type": "code",
   "execution_count": 873,
   "id": "8441dce7",
   "metadata": {},
   "outputs": [
    {
     "data": {
      "text/plain": [
       "array(['NVDA', 'ATVI', 'WDC', 'EBAY', 'SYMC', 'ROST', 'MCHP', 'LRCX',\n",
       "       'GILD', 'HAS'], dtype=object)"
      ]
     },
     "execution_count": 873,
     "metadata": {},
     "output_type": "execute_result"
    }
   ],
   "source": [
    "best10_2001"
   ]
  },
  {
   "cell_type": "markdown",
   "id": "3393ade9",
   "metadata": {},
   "source": [
    "#### creating a data frame for dates between 2002 and 2018\n",
    "\n",
    "* Here we filter data to have dates between january 2002 and december 2018, save the filtered data as 'crsp3_2002_2018'\n",
    "* Then we drop the cumulative return column, because 2001 was included in these values, and we create a new cululative return column with data starting in 2002."
   ]
  },
  {
   "cell_type": "code",
   "execution_count": 875,
   "id": "bda49f63",
   "metadata": {},
   "outputs": [],
   "source": [
    "crsp3_2002_2018=crsp3[(crsp3['date']>= '2002-01-01') & (crsp3['date']<= '2018-12-31')]\n",
    "\n",
    "crsp3_2002_2018 = crsp3_2002_2018.drop(columns=['Cumulative_Return'])\n",
    "crsp3_2002_2018['Cum_Return_02'] = crsp3_2002_2018.groupby('TICKER')['RET+1'].cumprod()"
   ]
  },
  {
   "cell_type": "markdown",
   "id": "d13cc65d",
   "metadata": {},
   "source": [
    "#### Creating a data frame for december\n",
    "\n",
    "Here we make a new data frame for only the last mont of 2018"
   ]
  },
  {
   "cell_type": "code",
   "execution_count": 877,
   "id": "3732b7ea",
   "metadata": {},
   "outputs": [],
   "source": [
    "crsp3_2002_2018['year']=crsp3_2002_2018['date'].dt.year\n",
    "crsp3_2002_2018['month']=crsp3_2002_2018['date'].dt.month"
   ]
  },
  {
   "cell_type": "markdown",
   "id": "fdc6470c",
   "metadata": {},
   "source": [
    "* filter the data from dataframe 'crsp3_2002_2018' to only include data for December 2018. This wil allow us to directly find the cumulative return of for the last month of the investment period data from the dataframe 'crsp3_2002_2018'"
   ]
  },
  {
   "cell_type": "code",
   "execution_count": 878,
   "id": "b3131a28",
   "metadata": {},
   "outputs": [],
   "source": [
    "december_2018_cum = crsp3_2002_2018[crsp3_2002_2018['date'].dt.year == 2018]\n",
    "december_2018_cum = december_2018_cum[december_2018_cum['date'].dt.month == 12]"
   ]
  },
  {
   "cell_type": "markdown",
   "id": "46ce003b",
   "metadata": {},
   "source": [
    "* create an empty list and loop to check for all of the 10 stocks in 'best10_2001' what their cumulative return was in december 2018. "
   ]
  },
  {
   "cell_type": "code",
   "execution_count": 879,
   "id": "214b1ca9",
   "metadata": {},
   "outputs": [],
   "source": [
    "cumulative_returns = {}\n",
    "for ticker in best10_2001:\n",
    "    if ticker in december_2018_cum['TICKER'].values:\n",
    "        ticker_data = december_2018_cum[december_2018_cum['TICKER'] == ticker]\n",
    "        cumulative_return = ticker_data['Cum_Return_02'] \n",
    "        cumulative_returns[ticker] = cumulative_return.values"
   ]
  },
  {
   "cell_type": "markdown",
   "id": "a8b876f7",
   "metadata": {},
   "source": [
    "Calculate the investment value for each ticker"
   ]
  },
  {
   "cell_type": "code",
   "execution_count": 880,
   "id": "70d940c7",
   "metadata": {},
   "outputs": [],
   "source": [
    "\n",
    "investment_value = (15000 / 10)  \n",
    "Val_2001inv_in2018 = {ticker: investment_value*cumulative_return for ticker, cumulative_return in cumulative_returns.items()}\n"
   ]
  },
  {
   "cell_type": "code",
   "execution_count": 881,
   "id": "c73bdbb6",
   "metadata": {},
   "outputs": [
    {
     "name": "stdout",
     "output_type": "stream",
     "text": [
      "[143447.78]\n"
     ]
    }
   ],
   "source": [
    "total_investment_value_2001 = sum(Val_2001inv_in2018.values())\n",
    "\n",
    "\n",
    "print(total_investment_value_2001)"
   ]
  },
  {
   "cell_type": "markdown",
   "id": "3786bd38",
   "metadata": {},
   "source": [
    "#### total value of invesstmentt from 2001\n",
    "\n",
    "The code above gives us the total value of the investment from 2001 in the top 10 stocks from 2001, which has a value of 143447.78 dollar"
   ]
  },
  {
   "cell_type": "markdown",
   "id": "a71a61ad",
   "metadata": {},
   "source": [
    "#### Finding the top 2 stocks for each month\n",
    "\n",
    "* Here we make new data frame which groups the data on month and year, and gives the 2 highest return values for every group, whit is done by adding '['RET'].nlargest(2)' at the end of the string.\n",
    "* Then we index the top two in the two best performing stocks and save this index as 'top2_index'"
   ]
  },
  {
   "cell_type": "code",
   "execution_count": 882,
   "id": "78e51bbd",
   "metadata": {},
   "outputs": [],
   "source": [
    "top_2_per_month=crsp3_2002_2018.groupby(['year', 'month'])['RET'].nlargest(2)\n",
    "\n",
    "top2_index = top_2_per_month.index.levels[2]"
   ]
  },
  {
   "cell_type": "markdown",
   "id": "25e8b97a",
   "metadata": {},
   "source": [
    "* Here after we make a data frame named 'top_return_df', which includes 'year', 'month', 'date', 'TICKER' and 'RET', found in crsp3_2002_2018 for all index values from top2_index.\n",
    "* then we sort the values by dates and store this as a new data frame named 'top_return_sorted_date'"
   ]
  },
  {
   "cell_type": "code",
   "execution_count": 883,
   "id": "fb05470a",
   "metadata": {},
   "outputs": [],
   "source": [
    "top_return_df = crsp3_2002_2018.loc[top2_index, ['year', 'month', 'date', 'TICKER', 'RET']]\n",
    "\n",
    "top_return_sorted_date = top_return_df.sort_values(by='date')"
   ]
  },
  {
   "cell_type": "code",
   "execution_count": null,
   "id": "7d90eca5",
   "metadata": {},
   "outputs": [],
   "source": []
  }
 ],
 "metadata": {
  "kernelspec": {
   "display_name": "Python 3 (ipykernel)",
   "language": "python",
   "name": "python3"
  },
  "language_info": {
   "codemirror_mode": {
    "name": "ipython",
    "version": 3
   },
   "file_extension": ".py",
   "mimetype": "text/x-python",
   "name": "python",
   "nbconvert_exporter": "python",
   "pygments_lexer": "ipython3",
   "version": "3.11.4"
  }
 },
 "nbformat": 4,
 "nbformat_minor": 5
}
